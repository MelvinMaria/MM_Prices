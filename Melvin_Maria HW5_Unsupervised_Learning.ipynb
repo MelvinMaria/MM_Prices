{
 "cells": [
  {
   "cell_type": "code",
   "execution_count": 1,
   "metadata": {},
   "outputs": [],
   "source": [
    "import numpy as np\n",
    "import pandas as pd\n",
    "import matplotlib.pyplot as plt"
   ]
  },
  {
   "cell_type": "code",
   "execution_count": 2,
   "metadata": {},
   "outputs": [],
   "source": [
    "import re\n",
    "\n",
    "# Define the regular expression pattern that matches the separator between values\n",
    "pattern = r'\\s+'"
   ]
  },
  {
   "cell_type": "code",
   "execution_count": 31,
   "metadata": {},
   "outputs": [],
   "source": [
    "df = pd.read_csv(\"seeds_dataset.txt\", header=None, names=['Area','Perimeter',\n",
    "           ' Compactness','  length of kernel',\n",
    "           ' width of kernel', ' asymmetry coefficient', \n",
    "           'length of kernel groove', 'wheat'], sep=pattern)"
   ]
  },
  {
   "cell_type": "code",
   "execution_count": 32,
   "metadata": {},
   "outputs": [
    {
     "data": {
      "text/html": [
       "<div>\n",
       "<style scoped>\n",
       "    .dataframe tbody tr th:only-of-type {\n",
       "        vertical-align: middle;\n",
       "    }\n",
       "\n",
       "    .dataframe tbody tr th {\n",
       "        vertical-align: top;\n",
       "    }\n",
       "\n",
       "    .dataframe thead th {\n",
       "        text-align: right;\n",
       "    }\n",
       "</style>\n",
       "<table border=\"1\" class=\"dataframe\">\n",
       "  <thead>\n",
       "    <tr style=\"text-align: right;\">\n",
       "      <th></th>\n",
       "      <th>Area</th>\n",
       "      <th>Perimeter</th>\n",
       "      <th>Compactness</th>\n",
       "      <th>length of kernel</th>\n",
       "      <th>width of kernel</th>\n",
       "      <th>asymmetry coefficient</th>\n",
       "      <th>length of kernel groove</th>\n",
       "      <th>wheat</th>\n",
       "    </tr>\n",
       "  </thead>\n",
       "  <tbody>\n",
       "    <tr>\n",
       "      <th>0</th>\n",
       "      <td>15.26</td>\n",
       "      <td>14.84</td>\n",
       "      <td>0.8710</td>\n",
       "      <td>5.763</td>\n",
       "      <td>3.312</td>\n",
       "      <td>2.221</td>\n",
       "      <td>5.220</td>\n",
       "      <td>1</td>\n",
       "    </tr>\n",
       "    <tr>\n",
       "      <th>1</th>\n",
       "      <td>14.88</td>\n",
       "      <td>14.57</td>\n",
       "      <td>0.8811</td>\n",
       "      <td>5.554</td>\n",
       "      <td>3.333</td>\n",
       "      <td>1.018</td>\n",
       "      <td>4.956</td>\n",
       "      <td>1</td>\n",
       "    </tr>\n",
       "    <tr>\n",
       "      <th>2</th>\n",
       "      <td>14.29</td>\n",
       "      <td>14.09</td>\n",
       "      <td>0.9050</td>\n",
       "      <td>5.291</td>\n",
       "      <td>3.337</td>\n",
       "      <td>2.699</td>\n",
       "      <td>4.825</td>\n",
       "      <td>1</td>\n",
       "    </tr>\n",
       "    <tr>\n",
       "      <th>3</th>\n",
       "      <td>13.84</td>\n",
       "      <td>13.94</td>\n",
       "      <td>0.8955</td>\n",
       "      <td>5.324</td>\n",
       "      <td>3.379</td>\n",
       "      <td>2.259</td>\n",
       "      <td>4.805</td>\n",
       "      <td>1</td>\n",
       "    </tr>\n",
       "    <tr>\n",
       "      <th>4</th>\n",
       "      <td>16.14</td>\n",
       "      <td>14.99</td>\n",
       "      <td>0.9034</td>\n",
       "      <td>5.658</td>\n",
       "      <td>3.562</td>\n",
       "      <td>1.355</td>\n",
       "      <td>5.175</td>\n",
       "      <td>1</td>\n",
       "    </tr>\n",
       "  </tbody>\n",
       "</table>\n",
       "</div>"
      ],
      "text/plain": [
       "    Area  Perimeter   Compactness    length of kernel   width of kernel  \\\n",
       "0  15.26      14.84        0.8710               5.763             3.312   \n",
       "1  14.88      14.57        0.8811               5.554             3.333   \n",
       "2  14.29      14.09        0.9050               5.291             3.337   \n",
       "3  13.84      13.94        0.8955               5.324             3.379   \n",
       "4  16.14      14.99        0.9034               5.658             3.562   \n",
       "\n",
       "    asymmetry coefficient  length of kernel groove  wheat  \n",
       "0                   2.221                    5.220      1  \n",
       "1                   1.018                    4.956      1  \n",
       "2                   2.699                    4.825      1  \n",
       "3                   2.259                    4.805      1  \n",
       "4                   1.355                    5.175      1  "
      ]
     },
     "execution_count": 32,
     "metadata": {},
     "output_type": "execute_result"
    }
   ],
   "source": [
    "df.head()"
   ]
  },
  {
   "attachments": {},
   "cell_type": "markdown",
   "metadata": {},
   "source": [
    "1- t-SNE to visalize the data"
   ]
  },
  {
   "cell_type": "code",
   "execution_count": 33,
   "metadata": {},
   "outputs": [
    {
     "name": "stderr",
     "output_type": "stream",
     "text": [
      "c:\\Users\\Mestr\\anaconda3\\lib\\site-packages\\sklearn\\manifold\\_t_sne.py:790: FutureWarning: The default learning rate in TSNE will change from 200.0 to 'auto' in 1.2.\n",
      "  warnings.warn(\n",
      "c:\\Users\\Mestr\\anaconda3\\lib\\site-packages\\sklearn\\manifold\\_t_sne.py:982: FutureWarning: The PCA initialization in TSNE will change to have the standard deviation of PC1 equal to 1e-4 in 1.2. This will ensure better convergence.\n",
      "  warnings.warn(\n"
     ]
    },
    {
     "data": {
      "image/png": "[encoded data removed]",
      "text/plain": [
       "<Figure size 640x480 with 1 Axes>"
      ]
     },
     "metadata": {},
     "output_type": "display_data"
    },
    {
     "data": {
      "image/png": "[encoded data removed]",
      "text/plain": [
       "<Figure size 640x480 with 1 Axes>"
      ]
     },
     "metadata": {},
     "output_type": "display_data"
    }
   ],
   "source": [
    "from sklearn.manifold import TSNE\n",
    "\n",
    "#  t-SNE model\n",
    "tsne = TSNE(n_components=2, init='pca', random_state=123)\n",
    "X_tsne = tsne.fit_transform(df)\n",
    "\n",
    "# scatterplot of t-SNE coordinates\n",
    "plt.scatter(X_tsne[:, 0], X_tsne[:, 1])\n",
    "plt.xlabel('t-SNE component 1')\n",
    "plt.ylabel('t-SNE component 2')\n",
    "plt.title('Scatterplot of t-SNE components')\n",
    "plt.show()\n",
    "\n",
    "# create scatterplot of area vs. perimeter\n",
    "plt.scatter(df['Area'], df['Perimeter'])\n",
    "plt.xlabel('Area')\n",
    "plt.ylabel('Perimeter')\n",
    "plt.title('Scatterplot of Area vs. Perimeter')\n",
    "plt.show()\n"
   ]
  },
  {
   "attachments": {},
   "cell_type": "markdown",
   "metadata": {},
   "source": [
    "2- Cluster the data using K-means, hierarchical clustering, and DBSCAN, and evaluate the performance of each clustering algorithm with adjusted rand index using the adjusted rand score\n",
    "module in sklearn."
   ]
  },
  {
   "cell_type": "code",
   "execution_count": 34,
   "metadata": {},
   "outputs": [
    {
     "name": "stdout",
     "output_type": "stream",
     "text": [
      "K-means clustering score: 0.4259389398685684\n",
      "Hierarchical clustering score: 0.2394270772976571\n",
      "DBSCAN clustering score: 0.055717658773885834\n"
     ]
    }
   ],
   "source": [
    "from sklearn.cluster import KMeans, AgglomerativeClustering, DBSCAN\n",
    "from sklearn.metrics import adjusted_rand_score\n",
    "\n",
    "true_labels = df['wheat']\n",
    "\n",
    "# K-means \n",
    "kmeans = KMeans()\n",
    "kmeans_labels = kmeans.fit_predict(df)\n",
    "\n",
    "# Hierarchical \n",
    "hierarchical = AgglomerativeClustering()\n",
    "hierarchical_labels = hierarchical.fit_predict(df)\n",
    "\n",
    "# DBSCAN \n",
    "dbscan = DBSCAN()\n",
    "dbscan_labels = dbscan.fit_predict(df)\n",
    "\n",
    "# Evaluate clustering performance\n",
    "kmeans_score = adjusted_rand_score(true_labels, kmeans_labels)\n",
    "hierarchical_score = adjusted_rand_score(true_labels, hierarchical_labels)\n",
    "dbscan_score = adjusted_rand_score(true_labels, dbscan_labels)\n",
    "\n",
    "# Adjusted rand index scores for each \n",
    "print('K-means clustering score:', kmeans_score)\n",
    "print('Hierarchical clustering score:', hierarchical_score)\n",
    "print('DBSCAN clustering score:', dbscan_score)"
   ]
  },
  {
   "attachments": {},
   "cell_type": "markdown",
   "metadata": {},
   "source": [
    "3- Split the dataset into a training set (70%) and a test set (30%). Train a logistic regression\n",
    "model with all features and show the prediction accuracy."
   ]
  },
  {
   "cell_type": "code",
   "execution_count": 35,
   "metadata": {},
   "outputs": [],
   "source": [
    "y=df['wheat']"
   ]
  },
  {
   "cell_type": "code",
   "execution_count": 36,
   "metadata": {},
   "outputs": [
    {
     "data": {
      "text/plain": [
       "0    1\n",
       "1    1\n",
       "2    1\n",
       "3    1\n",
       "4    1\n",
       "Name: wheat, dtype: int64"
      ]
     },
     "execution_count": 36,
     "metadata": {},
     "output_type": "execute_result"
    }
   ],
   "source": [
    "y.head()"
   ]
  },
  {
   "cell_type": "code",
   "execution_count": 37,
   "metadata": {},
   "outputs": [],
   "source": [
    "x = df.drop(df.columns[7], axis=1)"
   ]
  },
  {
   "cell_type": "code",
   "execution_count": 38,
   "metadata": {},
   "outputs": [
    {
     "data": {
      "text/html": [
       "<div>\n",
       "<style scoped>\n",
       "    .dataframe tbody tr th:only-of-type {\n",
       "        vertical-align: middle;\n",
       "    }\n",
       "\n",
       "    .dataframe tbody tr th {\n",
       "        vertical-align: top;\n",
       "    }\n",
       "\n",
       "    .dataframe thead th {\n",
       "        text-align: right;\n",
       "    }\n",
       "</style>\n",
       "<table border=\"1\" class=\"dataframe\">\n",
       "  <thead>\n",
       "    <tr style=\"text-align: right;\">\n",
       "      <th></th>\n",
       "      <th>Area</th>\n",
       "      <th>Perimeter</th>\n",
       "      <th>Compactness</th>\n",
       "      <th>length of kernel</th>\n",
       "      <th>width of kernel</th>\n",
       "      <th>asymmetry coefficient</th>\n",
       "      <th>length of kernel groove</th>\n",
       "    </tr>\n",
       "  </thead>\n",
       "  <tbody>\n",
       "    <tr>\n",
       "      <th>0</th>\n",
       "      <td>15.26</td>\n",
       "      <td>14.84</td>\n",
       "      <td>0.8710</td>\n",
       "      <td>5.763</td>\n",
       "      <td>3.312</td>\n",
       "      <td>2.221</td>\n",
       "      <td>5.220</td>\n",
       "    </tr>\n",
       "    <tr>\n",
       "      <th>1</th>\n",
       "      <td>14.88</td>\n",
       "      <td>14.57</td>\n",
       "      <td>0.8811</td>\n",
       "      <td>5.554</td>\n",
       "      <td>3.333</td>\n",
       "      <td>1.018</td>\n",
       "      <td>4.956</td>\n",
       "    </tr>\n",
       "    <tr>\n",
       "      <th>2</th>\n",
       "      <td>14.29</td>\n",
       "      <td>14.09</td>\n",
       "      <td>0.9050</td>\n",
       "      <td>5.291</td>\n",
       "      <td>3.337</td>\n",
       "      <td>2.699</td>\n",
       "      <td>4.825</td>\n",
       "    </tr>\n",
       "    <tr>\n",
       "      <th>3</th>\n",
       "      <td>13.84</td>\n",
       "      <td>13.94</td>\n",
       "      <td>0.8955</td>\n",
       "      <td>5.324</td>\n",
       "      <td>3.379</td>\n",
       "      <td>2.259</td>\n",
       "      <td>4.805</td>\n",
       "    </tr>\n",
       "    <tr>\n",
       "      <th>4</th>\n",
       "      <td>16.14</td>\n",
       "      <td>14.99</td>\n",
       "      <td>0.9034</td>\n",
       "      <td>5.658</td>\n",
       "      <td>3.562</td>\n",
       "      <td>1.355</td>\n",
       "      <td>5.175</td>\n",
       "    </tr>\n",
       "  </tbody>\n",
       "</table>\n",
       "</div>"
      ],
      "text/plain": [
       "    Area  Perimeter   Compactness    length of kernel   width of kernel  \\\n",
       "0  15.26      14.84        0.8710               5.763             3.312   \n",
       "1  14.88      14.57        0.8811               5.554             3.333   \n",
       "2  14.29      14.09        0.9050               5.291             3.337   \n",
       "3  13.84      13.94        0.8955               5.324             3.379   \n",
       "4  16.14      14.99        0.9034               5.658             3.562   \n",
       "\n",
       "    asymmetry coefficient  length of kernel groove  \n",
       "0                   2.221                    5.220  \n",
       "1                   1.018                    4.956  \n",
       "2                   2.699                    4.825  \n",
       "3                   2.259                    4.805  \n",
       "4                   1.355                    5.175  "
      ]
     },
     "execution_count": 38,
     "metadata": {},
     "output_type": "execute_result"
    }
   ],
   "source": [
    "x.head()"
   ]
  },
  {
   "cell_type": "code",
   "execution_count": 39,
   "metadata": {},
   "outputs": [],
   "source": [
    "#split data into a training set (70%) and a testing set (30%)\n",
    "#Using such a fixed random_state ensures that our results are reproducible.\n",
    "#Stratifying to ensure that the division is done in same proportions\n",
    "from sklearn.model_selection import train_test_split\n",
    "\n",
    "X_train, X_test, y_train, y_test = train_test_split(\n",
    "    x, y, test_size=0.3, random_state=1,stratify=y)"
   ]
  },
  {
   "cell_type": "code",
   "execution_count": 40,
   "metadata": {},
   "outputs": [
    {
     "name": "stdout",
     "output_type": "stream",
     "text": [
      "Labels counts in y: [ 0 70 70 70]\n",
      "Labels counts in y_train: [ 0 49 49 49]\n",
      "Labels counts in y_test: [ 0 21 21 21]\n"
     ]
    }
   ],
   "source": [
    "print('Labels counts in y:', np.bincount(y))\n",
    "print('Labels counts in y_train:', np.bincount(y_train))\n",
    "print('Labels counts in y_test:', np.bincount(y_test))"
   ]
  },
  {
   "cell_type": "code",
   "execution_count": 42,
   "metadata": {},
   "outputs": [],
   "source": [
    "#standardize features\n",
    "#Using the fit method, StandardScaler estimated the parameters, 𝜇 (sample mean) \n",
    "#and 𝜎 (standard deviation), for each feature dimension from the training data. \n",
    "#By calling the transform method, we then standardized\n",
    "#the training data using those estimated parameters, 𝜇 and 𝜎 .\n",
    "from sklearn.preprocessing import StandardScaler\n",
    "\n",
    "sc = StandardScaler()\n",
    "sc.fit(X_train)\n",
    "X_train_std = sc.transform(X_train)\n",
    "X_test_std = sc.transform(X_test)"
   ]
  },
  {
   "cell_type": "code",
   "execution_count": 66,
   "metadata": {},
   "outputs": [
    {
     "name": "stdout",
     "output_type": "stream",
     "text": [
      "Accuracy: 0.937\n"
     ]
    }
   ],
   "source": [
    "# Logistic Regression\n",
    "from sklearn.linear_model import LogisticRegression\n",
    "from sklearn.metrics import accuracy_score\n",
    "\n",
    "# Test 1\n",
    "LR=LogisticRegression()\n",
    "LR.fit(X_train_std, y_train)\n",
    "y_pred = LR.predict(X_test_std)\n",
    "print('Accuracy: %.3f' % accuracy_score(y_test, y_pred))"
   ]
  },
  {
   "attachments": {},
   "cell_type": "markdown",
   "metadata": {},
   "source": [
    "4-Train a logistic regression model with the first two principal components as features and show\n",
    "the prediction accuracy."
   ]
  },
  {
   "cell_type": "code",
   "execution_count": 46,
   "metadata": {},
   "outputs": [
    {
     "name": "stdout",
     "output_type": "stream",
     "text": [
      "Accuracy2: 0.952\n"
     ]
    }
   ],
   "source": [
    "from sklearn.decomposition import PCA\n",
    "\n",
    "# PCA\n",
    "pca = PCA(n_components=2)\n",
    "X_train_pca = pca.fit_transform(X_train_std)\n",
    "X_test_pca = pca.transform(X_test_std)\n",
    "\n",
    "# Test 2\n",
    "LR2 = LogisticRegression(random_state=123)\n",
    "LR2.fit(X_train_pca, y_train)\n",
    "y_pred2 = LR2.predict(X_test_pca)\n",
    "print('Accuracy2: %.3f' % accuracy_score(y_test, y_pred2))"
   ]
  },
  {
   "attachments": {},
   "cell_type": "markdown",
   "metadata": {},
   "source": [
    "5-Randomly select two original features and train a logistic regression model and show the\n",
    "prediction accuracy. Compare the prediction accuracies of three logistic regression models,\n",
    "what do you observe?"
   ]
  },
  {
   "cell_type": "code",
   "execution_count": 51,
   "metadata": {},
   "outputs": [
    {
     "name": "stdout",
     "output_type": "stream",
     "text": [
      "Area\n",
      " Compactness\n"
     ]
    }
   ],
   "source": [
    "import random\n",
    "\n",
    "# Randomly select two original features\n",
    "random.seed(123)\n",
    "feature1 = random.choice(['Area','Perimeter',' Compactness','  length of kernel', ' width of kernel', ' asymmetry coefficient', 'length of kernel groove'])\n",
    "feature2 = random.choice(['Area','Perimeter',' Compactness','  length of kernel', ' width of kernel', ' asymmetry coefficient', 'length of kernel groove'])\n",
    "while feature1 == feature2:\n",
    "    feature2 = random.choice(['Area','Perimeter',' Compactness','  length of kernel', ' width of kernel', ' asymmetry coefficient', 'length of kernel groove'])\n",
    "\n",
    "print(feature1)\n",
    "print(feature2)"
   ]
  },
  {
   "cell_type": "code",
   "execution_count": 63,
   "metadata": {},
   "outputs": [
    {
     "name": "stdout",
     "output_type": "stream",
     "text": [
      "Accuracy3: 0.857\n"
     ]
    }
   ],
   "source": [
    "# Test 3\n",
    "X_train_random = X_train[[feature1, feature2]]\n",
    "X_test_random = X_test[[feature1, feature2]]\n",
    "LR_random = LogisticRegression()\n",
    "LR_random.fit(X_train_random, y_train)\n",
    "y_pred_random = LR_random.predict(X_test_random)\n",
    "print('Accuracy3: %.3f' % accuracy_score(y_test, y_pred_random))"
   ]
  },
  {
   "cell_type": "code",
   "execution_count": null,
   "metadata": {},
   "outputs": [],
   "source": [
    "# PCA has the highest accuracy as its function allow it to capture the most important variation in the data, coming on second LR with all the variables so \n",
    "#it has access to the most information and can potentially capture more of the underlying patterns in the data"
   ]
  },
  {
   "attachments": {},
   "cell_type": "markdown",
   "metadata": {},
   "source": [
    "Breakdown: PCA has the highest accuracy 95% as its function allow it to capture the most important variation in the data, coming on second 93% a LR with all the variables so \n",
    "it has access to most information and can potentially capture more of the underlying patterns in the data and on third the random one with 85% , much lower because this\n",
    "approach only chooses two random features and doesnt use much information such as important variation in the data between the other variables."
   ]
  }
 ],
 "metadata": {
  "kernelspec": {
   "display_name": "base",
   "language": "python",
   "name": "python3"
  },
  "language_info": {
   "codemirror_mode": {
    "name": "ipython",
    "version": 3
   },
   "file_extension": ".py",
   "mimetype": "text/x-python",
   "name": "python",
   "nbconvert_exporter": "python",
   "pygments_lexer": "ipython3",
   "version": "3.9.13"
  },
  "orig_nbformat": 4
 },
 "nbformat": 4,
 "nbformat_minor": 2
}

{
 "cells": [
  {
   "cell_type": "code",
   "execution_count": 131,
   "metadata": {},
   "outputs": [],
   "source": [
    "import numpy as np\n",
    "import pandas as pd\n",
    "import matplotlib.pyplot as plt"
   ]
  },
  {
   "attachments": {},
   "cell_type": "markdown",
   "metadata": {},
   "source": [
    "Loading the data"
   ]
  },
  {
   "cell_type": "code",
   "execution_count": 132,
   "metadata": {},
   "outputs": [],
   "source": [
    "import re\n",
    "\n",
    "# Define the regular expression pattern that matches the separator between values\n",
    "pattern = r'\\s+'"
   ]
  },
  {
   "cell_type": "code",
   "execution_count": 133,
   "metadata": {},
   "outputs": [],
   "source": [
    "df = pd.read_csv(\"Vertebral_column_3C.dat\", header=None, names=['pelvic incidence','pelvic tilt',\n",
    "           ' lumbar lordosis angle',' sacral slope',\n",
    "           'pelvic radius', ' grade of spondylolisthesis', \n",
    "           'Class label'], sep=pattern)"
   ]
  },
  {
   "cell_type": "code",
   "execution_count": 134,
   "metadata": {},
   "outputs": [
    {
     "data": {
      "text/html": [
       "<div>\n",
       "<style scoped>\n",
       "    .dataframe tbody tr th:only-of-type {\n",
       "        vertical-align: middle;\n",
       "    }\n",
       "\n",
       "    .dataframe tbody tr th {\n",
       "        vertical-align: top;\n",
       "    }\n",
       "\n",
       "    .dataframe thead th {\n",
       "        text-align: right;\n",
       "    }\n",
       "</style>\n",
       "<table border=\"1\" class=\"dataframe\">\n",
       "  <thead>\n",
       "    <tr style=\"text-align: right;\">\n",
       "      <th></th>\n",
       "      <th>pelvic incidence</th>\n",
       "      <th>pelvic tilt</th>\n",
       "      <th>lumbar lordosis angle</th>\n",
       "      <th>sacral slope</th>\n",
       "      <th>pelvic radius</th>\n",
       "      <th>grade of spondylolisthesis</th>\n",
       "      <th>Class label</th>\n",
       "    </tr>\n",
       "  </thead>\n",
       "  <tbody>\n",
       "    <tr>\n",
       "      <th>0</th>\n",
       "      <td>63.03</td>\n",
       "      <td>22.55</td>\n",
       "      <td>39.61</td>\n",
       "      <td>40.48</td>\n",
       "      <td>98.67</td>\n",
       "      <td>-0.25</td>\n",
       "      <td>DH</td>\n",
       "    </tr>\n",
       "    <tr>\n",
       "      <th>1</th>\n",
       "      <td>39.06</td>\n",
       "      <td>10.06</td>\n",
       "      <td>25.02</td>\n",
       "      <td>29.00</td>\n",
       "      <td>114.41</td>\n",
       "      <td>4.56</td>\n",
       "      <td>DH</td>\n",
       "    </tr>\n",
       "    <tr>\n",
       "      <th>2</th>\n",
       "      <td>68.83</td>\n",
       "      <td>22.22</td>\n",
       "      <td>50.09</td>\n",
       "      <td>46.61</td>\n",
       "      <td>105.99</td>\n",
       "      <td>-3.53</td>\n",
       "      <td>DH</td>\n",
       "    </tr>\n",
       "    <tr>\n",
       "      <th>3</th>\n",
       "      <td>69.30</td>\n",
       "      <td>24.65</td>\n",
       "      <td>44.31</td>\n",
       "      <td>44.64</td>\n",
       "      <td>101.87</td>\n",
       "      <td>11.21</td>\n",
       "      <td>DH</td>\n",
       "    </tr>\n",
       "    <tr>\n",
       "      <th>4</th>\n",
       "      <td>49.71</td>\n",
       "      <td>9.65</td>\n",
       "      <td>28.32</td>\n",
       "      <td>40.06</td>\n",
       "      <td>108.17</td>\n",
       "      <td>7.92</td>\n",
       "      <td>DH</td>\n",
       "    </tr>\n",
       "  </tbody>\n",
       "</table>\n",
       "</div>"
      ],
      "text/plain": [
       "   pelvic incidence  pelvic tilt   lumbar lordosis angle   sacral slope  \\\n",
       "0             63.03        22.55                   39.61          40.48   \n",
       "1             39.06        10.06                   25.02          29.00   \n",
       "2             68.83        22.22                   50.09          46.61   \n",
       "3             69.30        24.65                   44.31          44.64   \n",
       "4             49.71         9.65                   28.32          40.06   \n",
       "\n",
       "   pelvic radius   grade of spondylolisthesis Class label  \n",
       "0          98.67                        -0.25          DH  \n",
       "1         114.41                         4.56          DH  \n",
       "2         105.99                        -3.53          DH  \n",
       "3         101.87                        11.21          DH  \n",
       "4         108.17                         7.92          DH  "
      ]
     },
     "execution_count": 134,
     "metadata": {},
     "output_type": "execute_result"
    }
   ],
   "source": [
    "df.head()"
   ]
  },
  {
   "cell_type": "code",
   "execution_count": 135,
   "metadata": {},
   "outputs": [],
   "source": [
    "y=df['Class label']"
   ]
  },
  {
   "cell_type": "code",
   "execution_count": 136,
   "metadata": {},
   "outputs": [
    {
     "data": {
      "text/plain": [
       "<bound method NDFrame.tail of 0      DH\n",
       "1      DH\n",
       "2      DH\n",
       "3      DH\n",
       "4      DH\n",
       "       ..\n",
       "305    NO\n",
       "306    NO\n",
       "307    NO\n",
       "308    NO\n",
       "309    NO\n",
       "Name: Class label, Length: 310, dtype: object>"
      ]
     },
     "execution_count": 136,
     "metadata": {},
     "output_type": "execute_result"
    }
   ],
   "source": [
    "y.tail"
   ]
  },
  {
   "cell_type": "code",
   "execution_count": 137,
   "metadata": {},
   "outputs": [],
   "source": [
    "x = df.drop(df.columns[6], axis=1)"
   ]
  },
  {
   "cell_type": "code",
   "execution_count": 138,
   "metadata": {},
   "outputs": [
    {
     "data": {
      "text/html": [
       "<div>\n",
       "<style scoped>\n",
       "    .dataframe tbody tr th:only-of-type {\n",
       "        vertical-align: middle;\n",
       "    }\n",
       "\n",
       "    .dataframe tbody tr th {\n",
       "        vertical-align: top;\n",
       "    }\n",
       "\n",
       "    .dataframe thead th {\n",
       "        text-align: right;\n",
       "    }\n",
       "</style>\n",
       "<table border=\"1\" class=\"dataframe\">\n",
       "  <thead>\n",
       "    <tr style=\"text-align: right;\">\n",
       "      <th></th>\n",
       "      <th>pelvic incidence</th>\n",
       "      <th>pelvic tilt</th>\n",
       "      <th>lumbar lordosis angle</th>\n",
       "      <th>sacral slope</th>\n",
       "      <th>pelvic radius</th>\n",
       "      <th>grade of spondylolisthesis</th>\n",
       "    </tr>\n",
       "  </thead>\n",
       "  <tbody>\n",
       "    <tr>\n",
       "      <th>0</th>\n",
       "      <td>63.03</td>\n",
       "      <td>22.55</td>\n",
       "      <td>39.61</td>\n",
       "      <td>40.48</td>\n",
       "      <td>98.67</td>\n",
       "      <td>-0.25</td>\n",
       "    </tr>\n",
       "    <tr>\n",
       "      <th>1</th>\n",
       "      <td>39.06</td>\n",
       "      <td>10.06</td>\n",
       "      <td>25.02</td>\n",
       "      <td>29.00</td>\n",
       "      <td>114.41</td>\n",
       "      <td>4.56</td>\n",
       "    </tr>\n",
       "    <tr>\n",
       "      <th>2</th>\n",
       "      <td>68.83</td>\n",
       "      <td>22.22</td>\n",
       "      <td>50.09</td>\n",
       "      <td>46.61</td>\n",
       "      <td>105.99</td>\n",
       "      <td>-3.53</td>\n",
       "    </tr>\n",
       "    <tr>\n",
       "      <th>3</th>\n",
       "      <td>69.30</td>\n",
       "      <td>24.65</td>\n",
       "      <td>44.31</td>\n",
       "      <td>44.64</td>\n",
       "      <td>101.87</td>\n",
       "      <td>11.21</td>\n",
       "    </tr>\n",
       "    <tr>\n",
       "      <th>4</th>\n",
       "      <td>49.71</td>\n",
       "      <td>9.65</td>\n",
       "      <td>28.32</td>\n",
       "      <td>40.06</td>\n",
       "      <td>108.17</td>\n",
       "      <td>7.92</td>\n",
       "    </tr>\n",
       "  </tbody>\n",
       "</table>\n",
       "</div>"
      ],
      "text/plain": [
       "   pelvic incidence  pelvic tilt   lumbar lordosis angle   sacral slope  \\\n",
       "0             63.03        22.55                   39.61          40.48   \n",
       "1             39.06        10.06                   25.02          29.00   \n",
       "2             68.83        22.22                   50.09          46.61   \n",
       "3             69.30        24.65                   44.31          44.64   \n",
       "4             49.71         9.65                   28.32          40.06   \n",
       "\n",
       "   pelvic radius   grade of spondylolisthesis  \n",
       "0          98.67                        -0.25  \n",
       "1         114.41                         4.56  \n",
       "2         105.99                        -3.53  \n",
       "3         101.87                        11.21  \n",
       "4         108.17                         7.92  "
      ]
     },
     "execution_count": 138,
     "metadata": {},
     "output_type": "execute_result"
    }
   ],
   "source": [
    "x.head()"
   ]
  },
  {
   "cell_type": "code",
   "execution_count": 139,
   "metadata": {},
   "outputs": [],
   "source": [
    "mapping = {'DH': 0, 'SL': 1, 'NO': 2}\n",
    "\n",
    "# Use the map method to replace the original class labels with the desired labels\n",
    "y_new=y.map(mapping)"
   ]
  },
  {
   "cell_type": "code",
   "execution_count": 140,
   "metadata": {},
   "outputs": [
    {
     "name": "stdout",
     "output_type": "stream",
     "text": [
      "Class label: ['DH' 'NO' 'SL']\n"
     ]
    }
   ],
   "source": [
    "#The np.unique(y) function returned the three unique class labels\n",
    "print('Class label:', np.unique(y))"
   ]
  },
  {
   "attachments": {},
   "cell_type": "markdown",
   "metadata": {},
   "source": [
    "1-Dividing into training and testing"
   ]
  },
  {
   "cell_type": "code",
   "execution_count": 141,
   "metadata": {},
   "outputs": [],
   "source": [
    "#a) Two features\n",
    "x_two_features=df[['pelvic incidence', 'pelvic radius']]"
   ]
  },
  {
   "cell_type": "code",
   "execution_count": 142,
   "metadata": {},
   "outputs": [
    {
     "data": {
      "text/html": [
       "<div>\n",
       "<style scoped>\n",
       "    .dataframe tbody tr th:only-of-type {\n",
       "        vertical-align: middle;\n",
       "    }\n",
       "\n",
       "    .dataframe tbody tr th {\n",
       "        vertical-align: top;\n",
       "    }\n",
       "\n",
       "    .dataframe thead th {\n",
       "        text-align: right;\n",
       "    }\n",
       "</style>\n",
       "<table border=\"1\" class=\"dataframe\">\n",
       "  <thead>\n",
       "    <tr style=\"text-align: right;\">\n",
       "      <th></th>\n",
       "      <th>pelvic incidence</th>\n",
       "      <th>pelvic radius</th>\n",
       "    </tr>\n",
       "  </thead>\n",
       "  <tbody>\n",
       "    <tr>\n",
       "      <th>0</th>\n",
       "      <td>63.03</td>\n",
       "      <td>98.67</td>\n",
       "    </tr>\n",
       "    <tr>\n",
       "      <th>1</th>\n",
       "      <td>39.06</td>\n",
       "      <td>114.41</td>\n",
       "    </tr>\n",
       "    <tr>\n",
       "      <th>2</th>\n",
       "      <td>68.83</td>\n",
       "      <td>105.99</td>\n",
       "    </tr>\n",
       "    <tr>\n",
       "      <th>3</th>\n",
       "      <td>69.30</td>\n",
       "      <td>101.87</td>\n",
       "    </tr>\n",
       "    <tr>\n",
       "      <th>4</th>\n",
       "      <td>49.71</td>\n",
       "      <td>108.17</td>\n",
       "    </tr>\n",
       "  </tbody>\n",
       "</table>\n",
       "</div>"
      ],
      "text/plain": [
       "   pelvic incidence  pelvic radius\n",
       "0             63.03          98.67\n",
       "1             39.06         114.41\n",
       "2             68.83         105.99\n",
       "3             69.30         101.87\n",
       "4             49.71         108.17"
      ]
     },
     "execution_count": 142,
     "metadata": {},
     "output_type": "execute_result"
    }
   ],
   "source": [
    "x_two_features.head()"
   ]
  },
  {
   "cell_type": "code",
   "execution_count": 143,
   "metadata": {},
   "outputs": [],
   "source": [
    "#split data into a training set (70%) and a testing set (30%)\n",
    "#Using such a fixed random_state ensures that our results are reproducible.\n",
    "#Stratifying to ensure that the division is done in same proportions\n",
    "from sklearn.model_selection import train_test_split\n",
    "\n",
    "X_two_train, X_two_test, y_two_train, y_two_test = train_test_split(\n",
    "    x_two_features, y_new, test_size=0.3, random_state=1,stratify=y_new)"
   ]
  },
  {
   "cell_type": "code",
   "execution_count": 144,
   "metadata": {},
   "outputs": [
    {
     "name": "stdout",
     "output_type": "stream",
     "text": [
      "Labels counts in y: [ 60 150 100]\n",
      "Labels counts in y_two_train: [ 42 105  70]\n",
      "Labels counts in y_two_test: [18 45 30]\n"
     ]
    }
   ],
   "source": [
    "print('Labels counts in y:', np.bincount(y_new))\n",
    "print('Labels counts in y_two_train:', np.bincount(y_two_train))\n",
    "print('Labels counts in y_two_test:', np.bincount(y_two_test))"
   ]
  },
  {
   "cell_type": "code",
   "execution_count": 145,
   "metadata": {},
   "outputs": [],
   "source": [
    "#standardize features\n",
    "#Using the fit method, StandardScaler estimated the parameters, 𝜇 (sample mean) \n",
    "#and 𝜎 (standard deviation), for each feature dimension from the training data. \n",
    "#By calling the transform method, we then standardized\n",
    "#the training data using those estimated parameters, 𝜇 and 𝜎 .\n",
    "from sklearn.preprocessing import StandardScaler\n",
    "\n",
    "sc = StandardScaler()\n",
    "sc.fit(X_two_train)\n",
    "X_two_train_std = sc.transform(X_two_train)\n",
    "X_two_test_std = sc.transform(X_two_test)"
   ]
  },
  {
   "cell_type": "code",
   "execution_count": 146,
   "metadata": {},
   "outputs": [
    {
     "name": "stdout",
     "output_type": "stream",
     "text": [
      "Misclassified examples: 35\n",
      "Accuracy: 0.624\n"
     ]
    }
   ],
   "source": [
    "from sklearn.tree import DecisionTreeClassifier\n",
    "from sklearn.metrics import accuracy_score\n",
    "DTC= DecisionTreeClassifier()\n",
    "DTC.fit(X_two_train_std, y_two_train)\n",
    "y_two_pred = DTC.predict(X_two_test_std)\n",
    "print('Misclassified examples: %d' % (y_two_test != y_two_pred).sum())\n",
    "\n",
    "#Accuracy Score\n",
    "print('Accuracy: %.3f' % accuracy_score(y_two_test, y_two_pred))"
   ]
  },
  {
   "cell_type": "code",
   "execution_count": 147,
   "metadata": {},
   "outputs": [
    {
     "data": {
      "image/png": "[encoded data removed]",
      "text/plain": [
       "<Figure size 1000x1000 with 2 Axes>"
      ]
     },
     "metadata": {},
     "output_type": "display_data"
    }
   ],
   "source": [
    "# Plot decision regions\n",
    "plot_step = 0.02\n",
    "feature_names = ['pelvic incidence', 'pelvic radius']\n",
    "target_names = ['DH', 'NO', 'SL']\n",
    "\n",
    "x_min, x_max = X_two_train_std[:, 0].min() - 1, X_two_train_std[:, 0].max() + 1\n",
    "y_min, y_max = X_two_train_std[:, 1].min() - 1, X_two_train_std[:, 1].max() + 1\n",
    "xx, yy = np.meshgrid(np.arange(x_min, x_max, plot_step),\n",
    "                     np.arange(y_min, y_max, plot_step))\n",
    "Z = DTC.predict(np.c_[xx.ravel(), yy.ravel()])\n",
    "Z = Z.reshape(xx.shape)\n",
    "plt.figure(figsize=(10,10))\n",
    "plt.contourf(xx, yy, Z, alpha=0.4)\n",
    "plt.scatter(X_two_train_std[:, 0], X_two_train_std[:, 1], c=y_two_train, alpha=0.8)\n",
    "plt.xlabel(feature_names[0])\n",
    "plt.ylabel(feature_names[1])\n",
    "plt.title('Decision regions for decision tree classifier')\n",
    "plt.colorbar()\n",
    "plt.show()"
   ]
  },
  {
   "cell_type": "code",
   "execution_count": 148,
   "metadata": {},
   "outputs": [],
   "source": [
    "#b) All the features\n",
    "X_train, X_test, y_train, y_test = train_test_split(\n",
    "    x, y_new, test_size=0.3, random_state=1,stratify=y_new)"
   ]
  },
  {
   "cell_type": "code",
   "execution_count": 149,
   "metadata": {},
   "outputs": [
    {
     "name": "stdout",
     "output_type": "stream",
     "text": [
      "Labels counts in y: [ 60 150 100]\n",
      "Labels counts in y_train: [ 42 105  70]\n",
      "Labels counts in y_test: [18 45 30]\n"
     ]
    }
   ],
   "source": [
    "print('Labels counts in y:', np.bincount(y_new))\n",
    "print('Labels counts in y_train:', np.bincount(y_train))\n",
    "print('Labels counts in y_test:', np.bincount(y_test))"
   ]
  },
  {
   "cell_type": "code",
   "execution_count": 150,
   "metadata": {},
   "outputs": [],
   "source": [
    "sc.fit(X_train)\n",
    "X_train_std = sc.transform(X_train)\n",
    "X_test_std = sc.transform(X_test)"
   ]
  },
  {
   "cell_type": "code",
   "execution_count": 151,
   "metadata": {},
   "outputs": [
    {
     "name": "stdout",
     "output_type": "stream",
     "text": [
      "Misclassified examples: 17\n",
      "Accuracy: 0.817\n"
     ]
    }
   ],
   "source": [
    "DTC.fit(X_train_std, y_train)\n",
    "y_pred = DTC.predict(X_test_std)\n",
    "print('Misclassified examples: %d' % (y_test != y_pred).sum())\n",
    "\n",
    "#Accuracy Score\n",
    "print('Accuracy: %.3f' % accuracy_score(y_test, y_pred))"
   ]
  },
  {
   "attachments": {},
   "cell_type": "markdown",
   "metadata": {},
   "source": [
    "2- Dividing into 30% training and 30% testing"
   ]
  },
  {
   "cell_type": "code",
   "execution_count": 152,
   "metadata": {},
   "outputs": [],
   "source": [
    "X_train, X_test, y_train, y_test = train_test_split(\n",
    "    x, y_new, test_size=0.3,train_size=0.3, random_state=1,stratify=y_new)"
   ]
  },
  {
   "cell_type": "code",
   "execution_count": 153,
   "metadata": {},
   "outputs": [
    {
     "name": "stdout",
     "output_type": "stream",
     "text": [
      "Labels counts in y: [ 60 150 100]\n",
      "Labels counts in y_train: [18 45 30]\n",
      "Labels counts in y_test: [18 45 30]\n"
     ]
    }
   ],
   "source": [
    "print('Labels counts in y:', np.bincount(y_new))\n",
    "print('Labels counts in y_train:', np.bincount(y_train))\n",
    "print('Labels counts in y_test:', np.bincount(y_test))"
   ]
  },
  {
   "cell_type": "code",
   "execution_count": 154,
   "metadata": {},
   "outputs": [],
   "source": [
    "sc.fit(X_train)\n",
    "X_train_std = sc.transform(X_train)\n",
    "X_test_std = sc.transform(X_test)"
   ]
  },
  {
   "cell_type": "code",
   "execution_count": 155,
   "metadata": {},
   "outputs": [
    {
     "name": "stdout",
     "output_type": "stream",
     "text": [
      "Best score 0.828888888888889\n",
      "Best Hyperparameter {'C': 1, 'kernel': 'linear'}\n"
     ]
    }
   ],
   "source": [
    "#10-fold CV for SVM\n",
    "from sklearn.model_selection import GridSearchCV, KFold\n",
    "from sklearn import svm\n",
    "\n",
    "param_grid= {'C': [0.1, 1, 10, 100], 'kernel':['linear','rbf','poly','sigmoid']}\n",
    "\n",
    "cv=KFold(n_splits=10)\n",
    "grid_search=GridSearchCV(svm.SVC(), param_grid=param_grid, cv=cv)\n",
    "grid_search.fit(X_train_std,y_train)\n",
    "\n",
    "print('Best score', grid_search.best_score_)\n",
    "print('Best Hyperparameter', grid_search.best_params_)"
   ]
  },
  {
   "cell_type": "code",
   "execution_count": 156,
   "metadata": {},
   "outputs": [
    {
     "name": "stdout",
     "output_type": "stream",
     "text": [
      "Linear Kernel Misclassified examples: 17\n"
     ]
    }
   ],
   "source": [
    "from sklearn.svm import SVC\n",
    "\n",
    "# linear kernel\n",
    "svm_linear = SVC(kernel='linear', C=1)\n",
    "svm_linear.fit(X_train_std, y_train)\n",
    "y_pred1=svm_linear.predict(X_test_std)\n",
    "print('Linear Kernel Misclassified examples: %d' % (y_test != y_pred1).sum())"
   ]
  },
  {
   "cell_type": "code",
   "execution_count": 157,
   "metadata": {},
   "outputs": [
    {
     "name": "stdout",
     "output_type": "stream",
     "text": [
      "Accuracy: 0.817\n"
     ]
    }
   ],
   "source": [
    "#Accuracy Score\n",
    "print('Accuracy: %.3f' % accuracy_score(y_test, y_pred1))"
   ]
  },
  {
   "cell_type": "code",
   "execution_count": 158,
   "metadata": {},
   "outputs": [
    {
     "name": "stdout",
     "output_type": "stream",
     "text": [
      "Best hyperparameters: {'max_depth': 3}\n",
      "Best score: 0.8277777777777777\n"
     ]
    }
   ],
   "source": [
    "#b)10-Fold CV for decision tree\n",
    "param_grid1 = {\n",
    "    'max_depth': [1,2,3,4,5,6,7,8,9,10]\n",
    "}\n",
    "\n",
    "#10-fold CV\n",
    "cv1 = KFold(n_splits=10)\n",
    "grid_search = GridSearchCV(\n",
    "    DecisionTreeClassifier(random_state=42),\n",
    "    param_grid=param_grid1,\n",
    "    cv=cv1\n",
    ")\n",
    "grid_search.fit(X_train_std, y_train)\n",
    "\n",
    "print('Best hyperparameters:', grid_search.best_params_)\n",
    "print('Best score:', grid_search.best_score_)"
   ]
  },
  {
   "cell_type": "code",
   "execution_count": 159,
   "metadata": {},
   "outputs": [
    {
     "name": "stdout",
     "output_type": "stream",
     "text": [
      "Misclassified examples: 16\n",
      "Accuracy: 0.828\n"
     ]
    }
   ],
   "source": [
    "DTC1= DecisionTreeClassifier(max_depth=3)\n",
    "DTC1.fit(X_train_std, y_train)\n",
    "y_pred2 = DTC1.predict(X_test_std)\n",
    "print('Misclassified examples: %d' % (y_test != y_pred2).sum())\n",
    "\n",
    "#Accuracy Score\n",
    "print('Accuracy: %.3f' % accuracy_score(y_test, y_pred2))"
   ]
  },
  {
   "attachments": {},
   "cell_type": "markdown",
   "metadata": {},
   "source": [
    "3-Logistic Regression and Decision Tree, Sensitiviy, Specificity, Confusion Matrix, ROC and AUC"
   ]
  },
  {
   "cell_type": "code",
   "execution_count": 160,
   "metadata": {},
   "outputs": [],
   "source": [
    "y_logit = y.replace(['DH', 'SL'], 'Abnormal')"
   ]
  },
  {
   "cell_type": "code",
   "execution_count": 161,
   "metadata": {},
   "outputs": [
    {
     "data": {
      "text/plain": [
       "0    Abnormal\n",
       "1    Abnormal\n",
       "2    Abnormal\n",
       "3    Abnormal\n",
       "4    Abnormal\n",
       "Name: Class label, dtype: object"
      ]
     },
     "execution_count": 161,
     "metadata": {},
     "output_type": "execute_result"
    }
   ],
   "source": [
    "y_logit.head()"
   ]
  },
  {
   "cell_type": "code",
   "execution_count": 162,
   "metadata": {},
   "outputs": [
    {
     "data": {
      "text/plain": [
       "305    NO\n",
       "306    NO\n",
       "307    NO\n",
       "308    NO\n",
       "309    NO\n",
       "Name: Class label, dtype: object"
      ]
     },
     "execution_count": 162,
     "metadata": {},
     "output_type": "execute_result"
    }
   ],
   "source": [
    "y_logit.tail()"
   ]
  },
  {
   "cell_type": "code",
   "execution_count": 163,
   "metadata": {},
   "outputs": [],
   "source": [
    "mapping = {'Abnormal': 0, 'NO': 1}\n",
    "\n",
    "# Use the map method to replace the original class labels with the desired labels\n",
    "y_new1=y_logit.map(mapping)"
   ]
  },
  {
   "cell_type": "code",
   "execution_count": 164,
   "metadata": {},
   "outputs": [
    {
     "data": {
      "text/plain": [
       "0    0\n",
       "1    0\n",
       "2    0\n",
       "3    0\n",
       "4    0\n",
       "Name: Class label, dtype: int64"
      ]
     },
     "execution_count": 164,
     "metadata": {},
     "output_type": "execute_result"
    }
   ],
   "source": [
    "y_new1.head()"
   ]
  },
  {
   "cell_type": "code",
   "execution_count": 165,
   "metadata": {},
   "outputs": [
    {
     "data": {
      "text/plain": [
       "305    1\n",
       "306    1\n",
       "307    1\n",
       "308    1\n",
       "309    1\n",
       "Name: Class label, dtype: int64"
      ]
     },
     "execution_count": 165,
     "metadata": {},
     "output_type": "execute_result"
    }
   ],
   "source": [
    "y_new1.tail()"
   ]
  },
  {
   "cell_type": "code",
   "execution_count": 166,
   "metadata": {},
   "outputs": [],
   "source": [
    "X_train, X_test, y_train, y_test = train_test_split(\n",
    "    x, y_new1, test_size=0.3,train_size=0.3, random_state=1,stratify=y_new1)"
   ]
  },
  {
   "cell_type": "code",
   "execution_count": 167,
   "metadata": {},
   "outputs": [
    {
     "name": "stdout",
     "output_type": "stream",
     "text": [
      "Labels counts in y: [210 100]\n",
      "Labels counts in y_train: [63 30]\n",
      "Labels counts in y_test: [63 30]\n"
     ]
    }
   ],
   "source": [
    "print('Labels counts in y:', np.bincount(y_new1))\n",
    "print('Labels counts in y_train:', np.bincount(y_train))\n",
    "print('Labels counts in y_test:', np.bincount(y_test))"
   ]
  },
  {
   "cell_type": "code",
   "execution_count": 168,
   "metadata": {},
   "outputs": [
    {
     "name": "stdout",
     "output_type": "stream",
     "text": [
      "Optimal regularization parameter: 0.3593813663804626\n"
     ]
    }
   ],
   "source": [
    "#10-fold cv Logistic Regression\n",
    "from sklearn.linear_model import LogisticRegressionCV\n",
    "from sklearn.linear_model import LogisticRegression\n",
    "\n",
    "cv2 = KFold(n_splits=10, shuffle=True, random_state=42)\n",
    "\n",
    "#l2-regularization\n",
    "LR = LogisticRegressionCV(Cs=10, cv=cv2, penalty='l2', solver='liblinear', random_state=42)\n",
    "LR.fit(X_train_std, y_train)\n",
    "\n",
    "print('Optimal regularization parameter:', LR.C_[0])"
   ]
  },
  {
   "cell_type": "code",
   "execution_count": 169,
   "metadata": {},
   "outputs": [
    {
     "name": "stdout",
     "output_type": "stream",
     "text": [
      "Misclassified examples: 31\n",
      "Accuracy: 0.667\n"
     ]
    }
   ],
   "source": [
    "LR_=LogisticRegression(C=LR.C_[0], penalty='l2', solver='liblinear', random_state=42)\n",
    "LR_.fit(X_train_std, y_train)\n",
    "y_pred3 = LR_.predict(X_test_std)\n",
    "print('Misclassified examples: %d' % (y_test != y_pred3).sum())\n",
    "\n",
    "#Accuracy Score\n",
    "print('Accuracy: %.3f' % accuracy_score(y_test, y_pred3))"
   ]
  },
  {
   "cell_type": "code",
   "execution_count": 170,
   "metadata": {},
   "outputs": [
    {
     "name": "stdout",
     "output_type": "stream",
     "text": [
      "Confusion matrix:\n",
      "[[57  6]\n",
      " [25  5]]\n"
     ]
    }
   ],
   "source": [
    "from sklearn.metrics import confusion_matrix\n",
    "cm = confusion_matrix(y_test, y_pred3)\n",
    "accuracy = (cm[0,0] + cm[1,1]) / cm.sum()\n",
    "\n",
    "# Display the confusion matrix, Specificity and Sensitivity\n",
    "print(\"Confusion matrix:\")\n",
    "print(cm)\n"
   ]
  },
  {
   "cell_type": "code",
   "execution_count": 171,
   "metadata": {},
   "outputs": [
    {
     "name": "stdout",
     "output_type": "stream",
     "text": [
      "TN = 57, FP = 6, FN = 25, TP = 5\n"
     ]
    }
   ],
   "source": [
    "tn, fp, fn, tp = confusion_matrix(y_test, y_pred3).ravel()\n",
    "\n",
    "print(f\"TN = {tn}, FP = {fp}, FN = {fn}, TP = {tp}\")"
   ]
  },
  {
   "cell_type": "code",
   "execution_count": 172,
   "metadata": {},
   "outputs": [
    {
     "name": "stdout",
     "output_type": "stream",
     "text": [
      "Specificity: 0.90\n",
      "Sensitivity: 0.17\n"
     ]
    }
   ],
   "source": [
    "LR_Specificity=(tn)/(fp+tn)\n",
    "LR_Sensitivity=(tp)/(tp+fn)\n",
    "print(\"Specificity: {:.2f}\".format(LR_Specificity))\n",
    "print(\"Sensitivity: {:.2f}\".format(LR_Sensitivity))"
   ]
  },
  {
   "cell_type": "code",
   "execution_count": 173,
   "metadata": {},
   "outputs": [
    {
     "data": {
      "image/png": "[encoded data removed]",
      "text/plain": [
       "<Figure size 640x480 with 1 Axes>"
      ]
     },
     "metadata": {},
     "output_type": "display_data"
    }
   ],
   "source": [
    "#ROC and AUC\n",
    "from sklearn.metrics import roc_curve, auc\n",
    "\n",
    "# y_true contains the true labels, y_score contains the predicted scores\n",
    "fpr, tpr, thresholds = roc_curve(y_test, y_pred3)\n",
    "\n",
    "# Compute the area under the ROC curve (AUC)\n",
    "roc_auc = auc(fpr, tpr)\n",
    "\n",
    "# Plot the ROC curve\n",
    "import matplotlib.pyplot as plt\n",
    "plt.plot(fpr, tpr, label='ROC curve (area = %0.2f)' % roc_auc)\n",
    "plt.plot([0, 1], [0, 1], 'k--') # plot the random guessing line\n",
    "plt.xlim([0.0, 1.0])\n",
    "plt.ylim([0.0, 1.05])\n",
    "plt.xlabel('False Positive Rate')\n",
    "plt.ylabel('True Positive Rate')\n",
    "plt.title('Receiver operating characteristic example')\n",
    "plt.legend(loc=\"lower right\")\n",
    "plt.show()\n"
   ]
  },
  {
   "cell_type": "code",
   "execution_count": 174,
   "metadata": {},
   "outputs": [
    {
     "name": "stdout",
     "output_type": "stream",
     "text": [
      "Best hyperparameters: {'max_depth': 3}\n",
      "Best score: 0.6688888888888889\n"
     ]
    }
   ],
   "source": [
    "#b)10-Fold CV for decision tree\n",
    "param_grid2 = {\n",
    "    'max_depth': [1,2,3,4,5,6,7,8,9,10]\n",
    "}\n",
    "\n",
    "#10-fold CV\n",
    "cv3 = KFold(n_splits=10)\n",
    "grid_search = GridSearchCV(\n",
    "    DecisionTreeClassifier(random_state=42),\n",
    "    param_grid=param_grid2,\n",
    "    cv=cv3\n",
    ")\n",
    "grid_search.fit(X_train_std, y_train)\n",
    "\n",
    "print('Best hyperparameters:', grid_search.best_params_)\n",
    "print('Best score:', grid_search.best_score_)"
   ]
  },
  {
   "cell_type": "code",
   "execution_count": 175,
   "metadata": {},
   "outputs": [
    {
     "name": "stdout",
     "output_type": "stream",
     "text": [
      "Misclassified examples: 34\n",
      "Accuracy: 0.634\n"
     ]
    }
   ],
   "source": [
    "DTC2= DecisionTreeClassifier(max_depth=3)\n",
    "DTC2.fit(X_train_std, y_train)\n",
    "y_pred4 = DTC2.predict(X_test_std)\n",
    "print('Misclassified examples: %d' % (y_test != y_pred4).sum())\n",
    "\n",
    "#Accuracy Score\n",
    "print('Accuracy: %.3f' % accuracy_score(y_test, y_pred4))"
   ]
  },
  {
   "cell_type": "code",
   "execution_count": 176,
   "metadata": {},
   "outputs": [
    {
     "name": "stdout",
     "output_type": "stream",
     "text": [
      "Confusion matrix:\n",
      "[[48 15]\n",
      " [19 11]]\n"
     ]
    }
   ],
   "source": [
    "# Create a confusion matrix and calculate Specificity and Sensitivity metrics\n",
    "cm1 = confusion_matrix(y_test, y_pred4)\n",
    "accuracy = (cm1[0,0] + cm1[1,1]) / cm1.sum()\n",
    "\n",
    "# Display the confusion matrix, Specificity and Sensitivity\n",
    "print(\"Confusion matrix:\")\n",
    "print(cm1)"
   ]
  },
  {
   "cell_type": "code",
   "execution_count": 177,
   "metadata": {},
   "outputs": [
    {
     "name": "stdout",
     "output_type": "stream",
     "text": [
      "TN = 48, FP = 15, FN = 19, TP = 11\n"
     ]
    }
   ],
   "source": [
    "tn, fp ,fn, tp = confusion_matrix(y_test, y_pred4).ravel()\n",
    "\n",
    "print(f\"TN = {tn}, FP = {fp}, FN = {fn}, TP = {tp}\")"
   ]
  },
  {
   "cell_type": "code",
   "execution_count": 179,
   "metadata": {},
   "outputs": [
    {
     "name": "stdout",
     "output_type": "stream",
     "text": [
      "Recall: 0.37\n",
      "Precision: 0.42\n"
     ]
    }
   ],
   "source": [
    "DTC2_Recall=(tp)/(tp+fn)\n",
    "DTC2_Precision=(tp)/(tp+fp)\n",
    "print(\"Recall: {:.2f}\".format(DTC2_Recall))\n",
    "print(\"Precision: {:.2f}\".format(DTC2_Precision))"
   ]
  },
  {
   "cell_type": "code",
   "execution_count": 180,
   "metadata": {},
   "outputs": [
    {
     "data": {
      "image/png": "[encoded data removed]",
      "text/plain": [
       "<Figure size 640x480 with 1 Axes>"
      ]
     },
     "metadata": {},
     "output_type": "display_data"
    }
   ],
   "source": [
    "#ROC and AUC\n",
    "from sklearn.metrics import precision_recall_curve, auc\n",
    "\n",
    "# y_true contains the true labels, y_score contains the predicted scores\n",
    "precision, recall, thresholds = precision_recall_curve(y_test, y_pred3)\n",
    "\n",
    "# Compute the area under the precision-recall curve (AUC)\n",
    "pr_auc = auc(recall, precision)\n",
    "\n",
    "# Plot the precision-recall curve\n",
    "import matplotlib.pyplot as plt\n",
    "plt.plot(recall, precision, label='Precision-Recall curve (area = %0.2f)' % pr_auc)\n",
    "plt.xlim([0.0, 1.0])\n",
    "plt.ylim([0.0, 1.05])\n",
    "plt.xlabel('Recall')\n",
    "plt.ylabel('Precision')\n",
    "plt.title('Precision-Recall curve')\n",
    "plt.legend(loc=\"lower left\")\n",
    "plt.show()"
   ]
  }
 ],
 "metadata": {
  "kernelspec": {
   "display_name": "base",
   "language": "python",
   "name": "python3"
  },
  "language_info": {
   "codemirror_mode": {
    "name": "ipython",
    "version": 3
   },
   "file_extension": ".py",
   "mimetype": "text/x-python",
   "name": "python",
   "nbconvert_exporter": "python",
   "pygments_lexer": "ipython3",
   "version": "3.9.13"
  },
  "orig_nbformat": 4,
  "vscode": {
   "interpreter": {
    "hash": "5e17e6dcdc35d4054ac49f19cfc8aa9089808a774a782bb049990c33fb94fc95"
   }
  }
 },
 "nbformat": 4,
 "nbformat_minor": 2
}

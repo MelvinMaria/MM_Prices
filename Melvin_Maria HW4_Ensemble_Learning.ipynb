{
 "cells": [
  {
   "attachments": {},
   "cell_type": "markdown",
   "metadata": {},
   "source": [
    "Preprocessing the Data"
   ]
  },
  {
   "cell_type": "code",
   "execution_count": 1,
   "metadata": {},
   "outputs": [],
   "source": [
    "import numpy as np\n",
    "import pandas as pd\n",
    "import matplotlib.pyplot as plt"
   ]
  },
  {
   "cell_type": "code",
   "execution_count": 2,
   "metadata": {},
   "outputs": [],
   "source": [
    "import re\n",
    "\n",
    "# Define the regular expression pattern that matches the separator between values\n",
    "pattern = r'\\s+'"
   ]
  },
  {
   "cell_type": "code",
   "execution_count": 3,
   "metadata": {},
   "outputs": [],
   "source": [
    "df = pd.read_csv(\"Vertebral_column_3C.dat\", header=None, names=['pelvic incidence','pelvic tilt',\n",
    "           ' lumbar lordosis angle',' sacral slope',\n",
    "           'pelvic radius', ' grade of spondylolisthesis', \n",
    "           'Class label'], sep=pattern)"
   ]
  },
  {
   "cell_type": "code",
   "execution_count": 4,
   "metadata": {},
   "outputs": [
    {
     "data": {
      "text/html": [
       "<div>\n",
       "<style scoped>\n",
       "    .dataframe tbody tr th:only-of-type {\n",
       "        vertical-align: middle;\n",
       "    }\n",
       "\n",
       "    .dataframe tbody tr th {\n",
       "        vertical-align: top;\n",
       "    }\n",
       "\n",
       "    .dataframe thead th {\n",
       "        text-align: right;\n",
       "    }\n",
       "</style>\n",
       "<table border=\"1\" class=\"dataframe\">\n",
       "  <thead>\n",
       "    <tr style=\"text-align: right;\">\n",
       "      <th></th>\n",
       "      <th>pelvic incidence</th>\n",
       "      <th>pelvic tilt</th>\n",
       "      <th>lumbar lordosis angle</th>\n",
       "      <th>sacral slope</th>\n",
       "      <th>pelvic radius</th>\n",
       "      <th>grade of spondylolisthesis</th>\n",
       "      <th>Class label</th>\n",
       "    </tr>\n",
       "  </thead>\n",
       "  <tbody>\n",
       "    <tr>\n",
       "      <th>0</th>\n",
       "      <td>63.03</td>\n",
       "      <td>22.55</td>\n",
       "      <td>39.61</td>\n",
       "      <td>40.48</td>\n",
       "      <td>98.67</td>\n",
       "      <td>-0.25</td>\n",
       "      <td>DH</td>\n",
       "    </tr>\n",
       "    <tr>\n",
       "      <th>1</th>\n",
       "      <td>39.06</td>\n",
       "      <td>10.06</td>\n",
       "      <td>25.02</td>\n",
       "      <td>29.00</td>\n",
       "      <td>114.41</td>\n",
       "      <td>4.56</td>\n",
       "      <td>DH</td>\n",
       "    </tr>\n",
       "    <tr>\n",
       "      <th>2</th>\n",
       "      <td>68.83</td>\n",
       "      <td>22.22</td>\n",
       "      <td>50.09</td>\n",
       "      <td>46.61</td>\n",
       "      <td>105.99</td>\n",
       "      <td>-3.53</td>\n",
       "      <td>DH</td>\n",
       "    </tr>\n",
       "    <tr>\n",
       "      <th>3</th>\n",
       "      <td>69.30</td>\n",
       "      <td>24.65</td>\n",
       "      <td>44.31</td>\n",
       "      <td>44.64</td>\n",
       "      <td>101.87</td>\n",
       "      <td>11.21</td>\n",
       "      <td>DH</td>\n",
       "    </tr>\n",
       "    <tr>\n",
       "      <th>4</th>\n",
       "      <td>49.71</td>\n",
       "      <td>9.65</td>\n",
       "      <td>28.32</td>\n",
       "      <td>40.06</td>\n",
       "      <td>108.17</td>\n",
       "      <td>7.92</td>\n",
       "      <td>DH</td>\n",
       "    </tr>\n",
       "  </tbody>\n",
       "</table>\n",
       "</div>"
      ],
      "text/plain": [
       "   pelvic incidence  pelvic tilt   lumbar lordosis angle   sacral slope  \\\n",
       "0             63.03        22.55                   39.61          40.48   \n",
       "1             39.06        10.06                   25.02          29.00   \n",
       "2             68.83        22.22                   50.09          46.61   \n",
       "3             69.30        24.65                   44.31          44.64   \n",
       "4             49.71         9.65                   28.32          40.06   \n",
       "\n",
       "   pelvic radius   grade of spondylolisthesis Class label  \n",
       "0          98.67                        -0.25          DH  \n",
       "1         114.41                         4.56          DH  \n",
       "2         105.99                        -3.53          DH  \n",
       "3         101.87                        11.21          DH  \n",
       "4         108.17                         7.92          DH  "
      ]
     },
     "execution_count": 4,
     "metadata": {},
     "output_type": "execute_result"
    }
   ],
   "source": [
    "df.head()"
   ]
  },
  {
   "cell_type": "code",
   "execution_count": 5,
   "metadata": {},
   "outputs": [],
   "source": [
    "y=df['Class label']"
   ]
  },
  {
   "cell_type": "code",
   "execution_count": 6,
   "metadata": {},
   "outputs": [
    {
     "data": {
      "text/plain": [
       "0    DH\n",
       "1    DH\n",
       "2    DH\n",
       "3    DH\n",
       "4    DH\n",
       "Name: Class label, dtype: object"
      ]
     },
     "execution_count": 6,
     "metadata": {},
     "output_type": "execute_result"
    }
   ],
   "source": [
    "y.head()"
   ]
  },
  {
   "cell_type": "code",
   "execution_count": 7,
   "metadata": {},
   "outputs": [],
   "source": [
    "x = df.drop(df.columns[6], axis=1)"
   ]
  },
  {
   "cell_type": "code",
   "execution_count": 8,
   "metadata": {},
   "outputs": [
    {
     "data": {
      "text/html": [
       "<div>\n",
       "<style scoped>\n",
       "    .dataframe tbody tr th:only-of-type {\n",
       "        vertical-align: middle;\n",
       "    }\n",
       "\n",
       "    .dataframe tbody tr th {\n",
       "        vertical-align: top;\n",
       "    }\n",
       "\n",
       "    .dataframe thead th {\n",
       "        text-align: right;\n",
       "    }\n",
       "</style>\n",
       "<table border=\"1\" class=\"dataframe\">\n",
       "  <thead>\n",
       "    <tr style=\"text-align: right;\">\n",
       "      <th></th>\n",
       "      <th>pelvic incidence</th>\n",
       "      <th>pelvic tilt</th>\n",
       "      <th>lumbar lordosis angle</th>\n",
       "      <th>sacral slope</th>\n",
       "      <th>pelvic radius</th>\n",
       "      <th>grade of spondylolisthesis</th>\n",
       "    </tr>\n",
       "  </thead>\n",
       "  <tbody>\n",
       "    <tr>\n",
       "      <th>0</th>\n",
       "      <td>63.03</td>\n",
       "      <td>22.55</td>\n",
       "      <td>39.61</td>\n",
       "      <td>40.48</td>\n",
       "      <td>98.67</td>\n",
       "      <td>-0.25</td>\n",
       "    </tr>\n",
       "    <tr>\n",
       "      <th>1</th>\n",
       "      <td>39.06</td>\n",
       "      <td>10.06</td>\n",
       "      <td>25.02</td>\n",
       "      <td>29.00</td>\n",
       "      <td>114.41</td>\n",
       "      <td>4.56</td>\n",
       "    </tr>\n",
       "    <tr>\n",
       "      <th>2</th>\n",
       "      <td>68.83</td>\n",
       "      <td>22.22</td>\n",
       "      <td>50.09</td>\n",
       "      <td>46.61</td>\n",
       "      <td>105.99</td>\n",
       "      <td>-3.53</td>\n",
       "    </tr>\n",
       "    <tr>\n",
       "      <th>3</th>\n",
       "      <td>69.30</td>\n",
       "      <td>24.65</td>\n",
       "      <td>44.31</td>\n",
       "      <td>44.64</td>\n",
       "      <td>101.87</td>\n",
       "      <td>11.21</td>\n",
       "    </tr>\n",
       "    <tr>\n",
       "      <th>4</th>\n",
       "      <td>49.71</td>\n",
       "      <td>9.65</td>\n",
       "      <td>28.32</td>\n",
       "      <td>40.06</td>\n",
       "      <td>108.17</td>\n",
       "      <td>7.92</td>\n",
       "    </tr>\n",
       "  </tbody>\n",
       "</table>\n",
       "</div>"
      ],
      "text/plain": [
       "   pelvic incidence  pelvic tilt   lumbar lordosis angle   sacral slope  \\\n",
       "0             63.03        22.55                   39.61          40.48   \n",
       "1             39.06        10.06                   25.02          29.00   \n",
       "2             68.83        22.22                   50.09          46.61   \n",
       "3             69.30        24.65                   44.31          44.64   \n",
       "4             49.71         9.65                   28.32          40.06   \n",
       "\n",
       "   pelvic radius   grade of spondylolisthesis  \n",
       "0          98.67                        -0.25  \n",
       "1         114.41                         4.56  \n",
       "2         105.99                        -3.53  \n",
       "3         101.87                        11.21  \n",
       "4         108.17                         7.92  "
      ]
     },
     "execution_count": 8,
     "metadata": {},
     "output_type": "execute_result"
    }
   ],
   "source": [
    "x.head()"
   ]
  },
  {
   "cell_type": "code",
   "execution_count": 9,
   "metadata": {},
   "outputs": [],
   "source": [
    "y_logit = y.replace(['DH', 'SL'], 'Abnormal')"
   ]
  },
  {
   "cell_type": "code",
   "execution_count": 10,
   "metadata": {},
   "outputs": [
    {
     "data": {
      "text/plain": [
       "0    Abnormal\n",
       "1    Abnormal\n",
       "2    Abnormal\n",
       "3    Abnormal\n",
       "4    Abnormal\n",
       "Name: Class label, dtype: object"
      ]
     },
     "execution_count": 10,
     "metadata": {},
     "output_type": "execute_result"
    }
   ],
   "source": [
    "y_logit.head()"
   ]
  },
  {
   "cell_type": "code",
   "execution_count": 11,
   "metadata": {},
   "outputs": [
    {
     "data": {
      "text/plain": [
       "305    NO\n",
       "306    NO\n",
       "307    NO\n",
       "308    NO\n",
       "309    NO\n",
       "Name: Class label, dtype: object"
      ]
     },
     "execution_count": 11,
     "metadata": {},
     "output_type": "execute_result"
    }
   ],
   "source": [
    "y_logit.tail()"
   ]
  },
  {
   "cell_type": "code",
   "execution_count": 12,
   "metadata": {},
   "outputs": [],
   "source": [
    "mapping = {'Abnormal': 0, 'NO': 1}\n",
    "\n",
    "# Use the map method to replace the original class labels with the desired labels\n",
    "y=y_logit.map(mapping)"
   ]
  },
  {
   "cell_type": "code",
   "execution_count": 13,
   "metadata": {},
   "outputs": [
    {
     "data": {
      "text/plain": [
       "0    0\n",
       "1    0\n",
       "2    0\n",
       "3    0\n",
       "4    0\n",
       "Name: Class label, dtype: int64"
      ]
     },
     "execution_count": 13,
     "metadata": {},
     "output_type": "execute_result"
    }
   ],
   "source": [
    "y.head()"
   ]
  },
  {
   "cell_type": "code",
   "execution_count": 14,
   "metadata": {},
   "outputs": [
    {
     "name": "stdout",
     "output_type": "stream",
     "text": [
      "Class label: [0 1]\n"
     ]
    }
   ],
   "source": [
    "#The np.unique(y) function returned the three unique class labels\n",
    "print('Class label:', np.unique(y))"
   ]
  },
  {
   "cell_type": "code",
   "execution_count": 15,
   "metadata": {},
   "outputs": [],
   "source": [
    "#split data into a training set (70%) and a testing set (30%)\n",
    "#Using such a fixed random_state ensures that our results are reproducible.\n",
    "#Stratifying to ensure that the division is done in same proportions\n",
    "from sklearn.model_selection import train_test_split\n",
    "\n",
    "X_train, X_test, y_train, y_test = train_test_split(\n",
    "    x, y, test_size=0.3, random_state=1,stratify=y)"
   ]
  },
  {
   "cell_type": "code",
   "execution_count": 16,
   "metadata": {},
   "outputs": [
    {
     "name": "stdout",
     "output_type": "stream",
     "text": [
      "Labels counts in y: [210 100]\n",
      "Labels counts in y_two_train: [147  70]\n",
      "Labels counts in y_two_test: [63 30]\n"
     ]
    }
   ],
   "source": [
    "print('Labels counts in y:', np.bincount(y))\n",
    "print('Labels counts in y_train:', np.bincount(y_train))\n",
    "print('Labels counts in y_test:', np.bincount(y_test))"
   ]
  },
  {
   "cell_type": "code",
   "execution_count": 17,
   "metadata": {},
   "outputs": [],
   "source": [
    "#standardize features\n",
    "#Using the fit method, StandardScaler estimated the parameters, 𝜇 (sample mean) \n",
    "#and 𝜎 (standard deviation), for each feature dimension from the training data. \n",
    "#By calling the transform method, we then standardized\n",
    "#the training data using those estimated parameters, 𝜇 and 𝜎 .\n",
    "from sklearn.preprocessing import StandardScaler\n",
    "\n",
    "sc = StandardScaler()\n",
    "sc.fit(X_train)\n",
    "X_train_std = sc.transform(X_train)\n",
    "X_test_std = sc.transform(X_test)"
   ]
  },
  {
   "attachments": {},
   "cell_type": "markdown",
   "metadata": {},
   "source": [
    "1- Random Forest"
   ]
  },
  {
   "cell_type": "code",
   "execution_count": 18,
   "metadata": {},
   "outputs": [
    {
     "name": "stdout",
     "output_type": "stream",
     "text": [
      "Misclassified examples: 12\n",
      "Accuracy: 0.871\n"
     ]
    }
   ],
   "source": [
    "from sklearn.ensemble import RandomForestClassifier\n",
    "from sklearn.metrics import accuracy_score\n",
    "\n",
    "RFC=RandomForestClassifier(max_depth=6, n_estimators=1000)\n",
    "RFC.fit(X_train_std, y_train)\n",
    "y_pred = RFC.predict(X_test_std)\n",
    "print('Misclassified examples: %d' % (y_test != y_pred).sum())\n",
    "\n",
    "#Accuracy Score\n",
    "print('Accuracy: %.3f' % accuracy_score(y_test, y_pred))"
   ]
  },
  {
   "cell_type": "code",
   "execution_count": 78,
   "metadata": {},
   "outputs": [
    {
     "name": "stdout",
     "output_type": "stream",
     "text": [
      "Accuracy2: 0.828\n",
      "Accuracy2: 0.828\n",
      "Accuracy2: 0.860\n",
      "Accuracy2: 0.860\n",
      "Accuracy2: 0.849\n",
      "Accuracy2: 0.839\n",
      "Accuracy2: 0.849\n",
      "Accuracy2: 0.860\n",
      "Accuracy2: 0.860\n",
      "Accuracy2: 0.839\n",
      "Accuracy2: 0.849\n",
      "Accuracy2: 0.860\n",
      "Accuracy2: 0.860\n",
      "Accuracy2: 0.860\n"
     ]
    }
   ],
   "source": [
    "n_estimators=[10, 50, 100, 200, 300, 400, 600, 800, 1000, 1200, 1400,1600, 1800,2000]\n",
    "Accuracy_2=[]\n",
    "for n in n_estimators:\n",
    "    RFC_2=RandomForestClassifier(max_depth=6, n_estimators=n)\n",
    "    RFC_2.fit(X_train_std, y_train)\n",
    "    y_pred2 = RFC_2.predict(X_test_std)\n",
    "    Accuracy_2.append(accuracy_score(y_test, y_pred2))\n",
    "    #Accuracy Scores\n",
    "    print('Accuracy2: %.3f' % accuracy_score(y_test, y_pred2))\n",
    "    "
   ]
  },
  {
   "cell_type": "code",
   "execution_count": 79,
   "metadata": {},
   "outputs": [
    {
     "data": {
      "text/plain": [
       "[0.8279569892473119,\n",
       " 0.8279569892473119,\n",
       " 0.8602150537634409,\n",
       " 0.8602150537634409,\n",
       " 0.8494623655913979,\n",
       " 0.8387096774193549,\n",
       " 0.8494623655913979,\n",
       " 0.8602150537634409,\n",
       " 0.8602150537634409,\n",
       " 0.8387096774193549,\n",
       " 0.8494623655913979,\n",
       " 0.8602150537634409,\n",
       " 0.8602150537634409,\n",
       " 0.8602150537634409]"
      ]
     },
     "execution_count": 79,
     "metadata": {},
     "output_type": "execute_result"
    }
   ],
   "source": [
    "Accuracy_2"
   ]
  },
  {
   "cell_type": "code",
   "execution_count": 80,
   "metadata": {},
   "outputs": [
    {
     "name": "stderr",
     "output_type": "stream",
     "text": [
      "No artists with labels found to put in legend.  Note that artists whose label start with an underscore are ignored when legend() is called with no argument.\n"
     ]
    },
    {
     "data": {
      "image/png": "[encoded data removed]",
      "text/plain": [
       "<Figure size 640x480 with 1 Axes>"
      ]
     },
     "metadata": {},
     "output_type": "display_data"
    }
   ],
   "source": [
    "#Prediction accuracy vs number of trees plot for Random Forest\n",
    "\n",
    "plt.plot(n_estimators, Accuracy_2)\n",
    "plt.xlabel('Number of trees')\n",
    "plt.ylabel('Precision Accuracy')\n",
    "plt.title('Prediction accuracy vs number of trees for Random Forest')\n",
    "plt.legend(loc=\"lower left\")\n",
    "plt.show()\n"
   ]
  },
  {
   "cell_type": "code",
   "execution_count": 33,
   "metadata": {},
   "outputs": [
    {
     "name": "stdout",
     "output_type": "stream",
     "text": [
      "Best score 0.8668831168831168\n",
      "Best Hyperparameter {'max_depth': 5, 'n_estimators': 1500}\n"
     ]
    }
   ],
   "source": [
    "#10-fold CV for Random Forest Classifier\n",
    "from sklearn.model_selection import GridSearchCV, KFold\n",
    "\n",
    "param_grid= {'max_depth':[5, 6, 7, 8], 'n_estimators':[100, 400, 1000, 1500]}\n",
    "\n",
    "cv=KFold(n_splits=10)\n",
    "grid_search=GridSearchCV(RandomForestClassifier(), param_grid=param_grid, cv=cv)\n",
    "grid_search.fit(X_train_std,y_train)\n",
    "\n",
    "print('Best score', grid_search.best_score_)\n",
    "print('Best Hyperparameter', grid_search.best_params_)"
   ]
  },
  {
   "cell_type": "code",
   "execution_count": 34,
   "metadata": {},
   "outputs": [
    {
     "name": "stdout",
     "output_type": "stream",
     "text": [
      "Misclassified examples: 13\n",
      "Accuracy2: 0.860\n"
     ]
    }
   ],
   "source": [
    "RFC_3=RandomForestClassifier(max_depth=5, n_estimators=1500)\n",
    "RFC_3.fit(X_train_std, y_train)\n",
    "y_pred3 = RFC_3.predict(X_test_std)\n",
    "print('Misclassified examples: %d' % (y_test != y_pred3).sum())\n",
    "\n",
    "#Accuracy Score\n",
    "print('Accuracy2: %.3f' % accuracy_score(y_test, y_pred3))"
   ]
  },
  {
   "attachments": {},
   "cell_type": "markdown",
   "metadata": {},
   "source": [
    "2-AdaBoost"
   ]
  },
  {
   "cell_type": "code",
   "execution_count": 35,
   "metadata": {},
   "outputs": [
    {
     "name": "stdout",
     "output_type": "stream",
     "text": [
      "Misclassified examples: 11\n",
      "Accuracy4: 0.882\n"
     ]
    }
   ],
   "source": [
    "#AdaBoost with 500 trees and learning rate of 0.1\n",
    "from sklearn.ensemble import AdaBoostClassifier\n",
    "from sklearn.tree import DecisionTreeClassifier\n",
    "tree=DecisionTreeClassifier()\n",
    "AdaBoostC=AdaBoostClassifier(base_estimator=tree, n_estimators=500, learning_rate=0.1)\n",
    "AdaBoostC.fit(X_train_std, y_train)\n",
    "y_pred4 = AdaBoostC.predict(X_test_std)\n",
    "print('Misclassified examples: %d' % (y_test != y_pred4).sum())\n",
    "\n",
    "#Accuracy Score\n",
    "print('Accuracy4: %.3f' % accuracy_score(y_test, y_pred4))"
   ]
  },
  {
   "cell_type": "code",
   "execution_count": 81,
   "metadata": {},
   "outputs": [
    {
     "name": "stdout",
     "output_type": "stream",
     "text": [
      "Accuracy5: 0.817\n",
      "Accuracy5: 0.817\n",
      "Accuracy5: 0.806\n",
      "Accuracy5: 0.839\n",
      "Accuracy5: 0.839\n",
      "Accuracy5: 0.796\n",
      "Accuracy5: 0.839\n",
      "Accuracy5: 0.839\n",
      "Accuracy5: 0.839\n",
      "Accuracy5: 0.828\n",
      "Accuracy5: 0.839\n",
      "Accuracy5: 0.817\n",
      "Accuracy5: 0.796\n",
      "Accuracy5: 0.806\n"
     ]
    }
   ],
   "source": [
    "#AdaBoost with number of trees = [10, 50, 100, 200, 300, 400, 600, 800, 1000, 1200, 1400,1600, 1800, 2000], and learning rate of 0.1\n",
    "\n",
    "n_estimators=[10, 50, 100, 200, 300, 400, 600, 800, 1000, 1200, 1400,1600, 1800,2000]\n",
    "Accuracy_5=[]\n",
    "for n in n_estimators:\n",
    "    AdaBoostC_2=AdaBoostClassifier(base_estimator=tree, n_estimators=n, learning_rate=0.1)\n",
    "    AdaBoostC_2.fit(X_train_std, y_train)\n",
    "    y_pred5 = AdaBoostC_2.predict(X_test_std)\n",
    "    Accuracy_5.append(accuracy_score(y_test, y_pred5))\n",
    "    #Accuracy Scores\n",
    "    print('Accuracy5: %.3f' % accuracy_score(y_test, y_pred5))"
   ]
  },
  {
   "cell_type": "code",
   "execution_count": 82,
   "metadata": {},
   "outputs": [
    {
     "data": {
      "text/plain": [
       "[0.8172043010752689,\n",
       " 0.8172043010752689,\n",
       " 0.8064516129032258,\n",
       " 0.8387096774193549,\n",
       " 0.8387096774193549,\n",
       " 0.7956989247311828,\n",
       " 0.8387096774193549,\n",
       " 0.8387096774193549,\n",
       " 0.8387096774193549,\n",
       " 0.8279569892473119,\n",
       " 0.8387096774193549,\n",
       " 0.8172043010752689,\n",
       " 0.7956989247311828,\n",
       " 0.8064516129032258]"
      ]
     },
     "execution_count": 82,
     "metadata": {},
     "output_type": "execute_result"
    }
   ],
   "source": [
    "Accuracy_5"
   ]
  },
  {
   "cell_type": "code",
   "execution_count": 83,
   "metadata": {},
   "outputs": [
    {
     "name": "stderr",
     "output_type": "stream",
     "text": [
      "No artists with labels found to put in legend.  Note that artists whose label start with an underscore are ignored when legend() is called with no argument.\n"
     ]
    },
    {
     "data": {
      "image/png": "[encoded data removed]",
      "text/plain": [
       "<Figure size 640x480 with 1 Axes>"
      ]
     },
     "metadata": {},
     "output_type": "display_data"
    }
   ],
   "source": [
    "#Prediction accuracy vs number of trees plot for AdaBoost\n",
    "\n",
    "plt.plot(n_estimators, Accuracy_5)\n",
    "plt.xlabel('Number of trees')\n",
    "plt.ylabel('Precision Accuracy')\n",
    "plt.title('Prediction accuracy vs number of trees for AdaBoost')\n",
    "plt.legend(loc=\"lower left\")\n",
    "plt.show()"
   ]
  },
  {
   "cell_type": "code",
   "execution_count": 37,
   "metadata": {},
   "outputs": [
    {
     "name": "stdout",
     "output_type": "stream",
     "text": [
      "Best score 0.8534632034632035\n",
      "Best Hyperparameter {'n_estimators': 1000}\n"
     ]
    }
   ],
   "source": [
    "#10-fold CV for Ada Boost Classifier\n",
    "from sklearn.model_selection import GridSearchCV, KFold\n",
    "\n",
    "param_grid= {'n_estimators': [100, 400, 1000, 1500]}\n",
    "tree=DecisionTreeClassifier(max_depth=5)\n",
    "cv=KFold(n_splits=10)\n",
    "\n",
    "grid_search=GridSearchCV(AdaBoostClassifier(base_estimator=tree), param_grid=param_grid, cv=cv)\n",
    "grid_search.fit(X_train_std,y_train)\n",
    "\n",
    "print('Best score', grid_search.best_score_)\n",
    "print('Best Hyperparameter', grid_search.best_params_)"
   ]
  },
  {
   "cell_type": "code",
   "execution_count": 44,
   "metadata": {},
   "outputs": [
    {
     "name": "stdout",
     "output_type": "stream",
     "text": [
      "Misclassified examples: 15\n",
      "Accuracy6: 0.839\n"
     ]
    }
   ],
   "source": [
    "#AdaBoost with n trees and learning rate of 0.1\n",
    "AdaBoostC_3=AdaBoostClassifier(base_estimator=tree, n_estimators=1000, learning_rate=0.1)\n",
    "AdaBoostC_3.fit(X_train_std, y_train)\n",
    "y_pred6 = AdaBoostC_3.predict(X_test_std)\n",
    "print('Misclassified examples: %d' % (y_test != y_pred6).sum())\n",
    "\n",
    "#Accuracy Score\n",
    "print('Accuracy6: %.3f' % accuracy_score(y_test, y_pred6))"
   ]
  },
  {
   "attachments": {},
   "cell_type": "markdown",
   "metadata": {},
   "source": [
    "3- Gradient Boosting"
   ]
  },
  {
   "cell_type": "code",
   "execution_count": 84,
   "metadata": {},
   "outputs": [
    {
     "name": "stdout",
     "output_type": "stream",
     "text": [
      "Accuracy7: 0.817\n",
      "Accuracy7: 0.860\n",
      "Accuracy7: 0.860\n",
      "Accuracy7: 0.849\n",
      "Accuracy7: 0.839\n",
      "Accuracy7: 0.849\n",
      "Accuracy7: 0.839\n",
      "Accuracy7: 0.849\n",
      "Accuracy7: 0.839\n",
      "Accuracy7: 0.839\n",
      "Accuracy7: 0.839\n",
      "Accuracy7: 0.839\n",
      "Accuracy7: 0.839\n",
      "Accuracy7: 0.839\n"
     ]
    }
   ],
   "source": [
    "#Gradient Boosting with max depth = 6 , learning rate = 0.01 and number of trees = n\n",
    "from sklearn.ensemble import HistGradientBoostingClassifier\n",
    "import xgboost as xgb\n",
    "\n",
    "Accuracy_7=[]\n",
    "\n",
    "for n in n_estimators:\n",
    "    model= xgb.XGBClassifier(n_estimators= n, learning_rate=0.01, max_depth=6)\n",
    "    model.fit(X_train_std, y_train)\n",
    "    y_pred7 = model.predict(X_test_std)\n",
    "    Accuracy_7.append(accuracy_score(y_test, y_pred7))\n",
    "    #Accuracy Scores\n",
    "    print('Accuracy7: %.3f' % accuracy_score(y_test, y_pred7))\n"
   ]
  },
  {
   "cell_type": "code",
   "execution_count": 85,
   "metadata": {},
   "outputs": [
    {
     "data": {
      "text/plain": [
       "[0.8172043010752689,\n",
       " 0.8602150537634409,\n",
       " 0.8602150537634409,\n",
       " 0.8494623655913979,\n",
       " 0.8387096774193549,\n",
       " 0.8494623655913979,\n",
       " 0.8387096774193549,\n",
       " 0.8494623655913979,\n",
       " 0.8387096774193549,\n",
       " 0.8387096774193549,\n",
       " 0.8387096774193549,\n",
       " 0.8387096774193549,\n",
       " 0.8387096774193549,\n",
       " 0.8387096774193549]"
      ]
     },
     "execution_count": 85,
     "metadata": {},
     "output_type": "execute_result"
    }
   ],
   "source": [
    "Accuracy_7"
   ]
  },
  {
   "cell_type": "code",
   "execution_count": 86,
   "metadata": {},
   "outputs": [
    {
     "name": "stderr",
     "output_type": "stream",
     "text": [
      "No artists with labels found to put in legend.  Note that artists whose label start with an underscore are ignored when legend() is called with no argument.\n"
     ]
    },
    {
     "data": {
      "image/png": "[encoded data removed]",
      "text/plain": [
       "<Figure size 640x480 with 1 Axes>"
      ]
     },
     "metadata": {},
     "output_type": "display_data"
    }
   ],
   "source": [
    "#Prediction accuracy vs number of trees plot for Gradient Boosting\n",
    "\n",
    "plt.plot(n_estimators, Accuracy_7)\n",
    "plt.xlabel('Number of trees')\n",
    "plt.ylabel('Precision Accuracy')\n",
    "plt.title('Prediction accuracy vs number of trees for Gradient Boosting')\n",
    "plt.legend(loc=\"lower left\")\n",
    "plt.show()"
   ]
  },
  {
   "cell_type": "code",
   "execution_count": 46,
   "metadata": {},
   "outputs": [
    {
     "name": "stdout",
     "output_type": "stream",
     "text": [
      "Best score 0.8253246753246752\n",
      "Best Hyperparameter {'max_depth': 5, 'n_estimators': 100}\n"
     ]
    }
   ],
   "source": [
    "#10-fold CV for Gradient Boosting Classifier\n",
    "from sklearn.model_selection import GridSearchCV, KFold\n",
    "\n",
    "param_grid= {'n_estimators': [100, 400, 1000, 1500], 'max_depth':[5, 6, 7,8]}\n",
    "cv=KFold(n_splits=10)\n",
    "\n",
    "grid_search=GridSearchCV(xgb.XGBClassifier(), param_grid=param_grid, cv=cv)\n",
    "grid_search.fit(X_train_std,y_train)\n",
    "\n",
    "print('Best score', grid_search.best_score_)\n",
    "print('Best Hyperparameter', grid_search.best_params_)"
   ]
  },
  {
   "cell_type": "code",
   "execution_count": 50,
   "metadata": {},
   "outputs": [
    {
     "name": "stdout",
     "output_type": "stream",
     "text": [
      "Misclassified examples: 13\n",
      "Accuracy8: 0.860\n"
     ]
    }
   ],
   "source": [
    "model2= xgb.XGBClassifier(n_estimators= 100, learning_rate=0.01, max_depth=5)\n",
    "model2.fit(X_train_std, y_train)\n",
    "y_pred8 = model2.predict(X_test_std)\n",
    "print('Misclassified examples: %d' % (y_test != y_pred8).sum())\n",
    "\n",
    "#Accuracy Score\n",
    "print('Accuracy8: %.3f' % accuracy_score(y_test, y_pred8))"
   ]
  }
 ],
 "metadata": {
  "kernelspec": {
   "display_name": "base",
   "language": "python",
   "name": "python3"
  },
  "language_info": {
   "codemirror_mode": {
    "name": "ipython",
    "version": 3
   },
   "file_extension": ".py",
   "mimetype": "text/x-python",
   "name": "python",
   "nbconvert_exporter": "python",
   "pygments_lexer": "ipython3",
   "version": "3.9.13"
  },
  "orig_nbformat": 4
 },
 "nbformat": 4,
 "nbformat_minor": 2
}
